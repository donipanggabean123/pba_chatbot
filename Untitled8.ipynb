{
 "cells": [
  {
   "cell_type": "code",
   "execution_count": 1,
   "metadata": {},
   "outputs": [],
   "source": [
    "import tweepy\n",
    "import csv"
   ]
  },
  {
   "cell_type": "code",
   "execution_count": 2,
   "metadata": {},
   "outputs": [],
   "source": [
    "consumer_key = \"xDWfCnUOK45ROXjI83MJRfLmQ\"\n",
    "consumer_secret = \"HG7izWU58gbVeruKZM5stFIQoW7asywDPTwTJmgK8USf43Ocxw\"\n",
    "access_token = \"583526413-cvFl5asz5ksqcZWvpJMBVSkUlmo7m7Wm99BOrIBF\"\n",
    "access_token_secret = \"5Z6fpzTGiNWORnXfLIZRj0fJzDcjMRfx54QLe1LVDrJrh\""
   ]
  },
  {
   "cell_type": "code",
   "execution_count": 3,
   "metadata": {},
   "outputs": [],
   "source": [
    "auth = tweepy.OAuthHandler(consumer_key, consumer_secret)\n",
    "auth.set_access_token(access_token, access_token_secret)\n",
    "api = tweepy.API(auth,wait_on_rate_limit=True)"
   ]
  },
  {
   "cell_type": "code",
   "execution_count": 8,
   "metadata": {},
   "outputs": [],
   "source": [
    "csvFile = open('#vaksin3.csv', 'a')\n",
    "csvWriter = csv.writer(csvFile)"
   ]
  },
  {
   "cell_type": "code",
   "execution_count": 9,
   "metadata": {},
   "outputs": [],
   "source": [
    "for tweet in tweepy.Cursor(api.search,q=\"vaksincovid19\", count=100,\n",
    "                           lang=\"id\",\n",
    "                           since=\"2020-10-10\", until=\"2020-17-10\").items():\n",
    "    print (tweet.created_at, tweet.user.screen_name, tweet.text)\n",
    "    csvWriter.writerow([tweet.created_at, tweet.user.screen_name, tweet.text.encode('utf-8')])\n"
   ]
  },
  {
   "cell_type": "code",
   "execution_count": null,
   "metadata": {},
   "outputs": [],
   "source": []
  }
 ],
 "metadata": {
  "kernelspec": {
   "display_name": "Python 3",
   "language": "python",
   "name": "python3"
  },
  "language_info": {
   "codemirror_mode": {
    "name": "ipython",
    "version": 3
   },
   "file_extension": ".py",
   "mimetype": "text/x-python",
   "name": "python",
   "nbconvert_exporter": "python",
   "pygments_lexer": "ipython3",
   "version": "3.7.3"
  }
 },
 "nbformat": 4,
 "nbformat_minor": 2
}
